version https://git-lfs.github.com/spec/v1
oid sha256:3dcb3578f190605247cd7939f38688e49b2a30bd3482ce686c8ac335372b1418
size 347020
